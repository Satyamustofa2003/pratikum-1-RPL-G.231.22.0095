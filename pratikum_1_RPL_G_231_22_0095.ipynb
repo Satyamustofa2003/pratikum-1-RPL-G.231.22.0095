{
  "cells": [
    {
      "cell_type": "code",
      "source": [
        "class TrafficPoliceTicketing:\n",
        "    def __init__(self):\n",
        "        self.driver_database = {}\n",
        "\n",
        "    def add_driver(self, name, license_number, profile_data):\n",
        "        if license_number in self.driver_database:\n",
        "            print(\"Driver already exists in the database.\")\n",
        "        else:\n",
        "            self.driver_database[license_number] = {'name': name, 'profile': profile_data}\n",
        "            print(f\"Driver {name} with license number {license_number} added to the database.\")\n",
        "\n",
        "    def issue_ticket(self, license_number, violation, amount):\n",
        "        if license_number in self.driver_database:\n",
        "            print(f\"Ticket Issued to {self.driver_database[license_number]['name']} for {violation} with fine ${amount}.\")\n",
        "        else:\n",
        "            print(\"Driver not found in the database.\")"
      ],
      "metadata": {
        "id": "LdyhdJlkqh3k"
      },
      "execution_count": null,
      "outputs": []
    },
    {
      "cell_type": "code",
      "source": [
        "class TrafficPoliceTicketing:\n",
        "    def __init__(self):\n",
        "        self.driver_database = {}\n",
        "\n",
        "    def add_driver(self, name, license_number):\n",
        "        if license_number in self.driver_database:\n",
        "            print(\"Driver already exists in the database.\")\n",
        "        else:\n",
        "            self.driver_database[license_number] = name\n",
        "            print(f\"Driver {name} with license number {license_number} added to the database.\")\n",
        "\n",
        "    def issue_ticket(self, license_number, violation, amount):\n",
        "        if license_number in self.driver_database:\n",
        "            print(f\"Ticket Issued to {self.driver_database[license_number]} for {violation} with fine ${amount}.\")\n",
        "        else:\n",
        "            print(\"Driver not found in the database.\")"
      ],
      "metadata": {
        "id": "t-ESnURxqv8N"
      },
      "execution_count": null,
      "outputs": []
    }
  ],
  "metadata": {
    "colab": {
      "provenance": []
    },
    "kernelspec": {
      "display_name": "Python 3",
      "name": "python3"
    }
  },
  "nbformat": 4,
  "nbformat_minor": 0
}